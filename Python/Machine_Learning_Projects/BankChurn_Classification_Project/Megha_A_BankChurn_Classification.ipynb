{
 "cells": [
  {
   "cell_type": "code",
   "execution_count": 216,
   "metadata": {
    "id": "gYiHO8ihWlyD"
   },
   "outputs": [],
   "source": [
    "import numpy as np \n",
    "import pandas as pd \n",
    "from numpy import floor\n",
    "\n",
    "from sklearn import preprocessing\n",
    "from sklearn.preprocessing import StandardScaler, MinMaxScaler\n",
    "import matplotlib.pyplot as plt \n",
    "from matplotlib import pyplot\n",
    "plt.rc(\"font\", size=14)\n",
    "import seaborn as sns\n",
    "sns.set(style=\"white\")\n",
    "sns.set(style=\"whitegrid\", color_codes=True)\n",
    "from sklearn.model_selection import train_test_split\n",
    "from sklearn.linear_model import LogisticRegression\n",
    "from sklearn.neighbors import KNeighborsClassifier\n",
    "from sklearn.naive_bayes import GaussianNB\n",
    "from sklearn.tree import DecisionTreeClassifier\n",
    "from sklearn.ensemble import RandomForestClassifier,GradientBoostingClassifier,AdaBoostClassifier\n",
    "from sklearn.model_selection import KFold,cross_val_score,RepeatedStratifiedKFold\n",
    "from sklearn import tree\n",
    "from sklearn.preprocessing import LabelEncoder\n",
    "from sklearn import metrics\n",
    "\n",
    "\n",
    "from sklearn.metrics import confusion_matrix,classification_report\n",
    "from sklearn.metrics import recall_score\n",
    "from sklearn.metrics import f1_score\n",
    "from sklearn.metrics import accuracy_score\n",
    "from sklearn.metrics import precision_score\n",
    "from sklearn.metrics import roc_auc_score\n",
    "from sklearn.metrics import roc_curve\n",
    "\n",
    "import warnings\n",
    "warnings.simplefilter(action='ignore')"
   ]
  },
  {
   "cell_type": "markdown",
   "metadata": {
    "id": "uf88EK-sP6t_"
   },
   "source": [
    "## **Data Preparation**"
   ]
  },
  {
   "cell_type": "code",
   "execution_count": 116,
   "metadata": {
    "colab": {
     "base_uri": "https://localhost:8080/",
     "height": 206
    },
    "id": "4BnFklGhZ-Oi",
    "outputId": "48827e4c-569c-478a-a8c8-f232f0740048"
   },
   "outputs": [
    {
     "data": {
      "text/html": [
       "<div>\n",
       "<style scoped>\n",
       "    .dataframe tbody tr th:only-of-type {\n",
       "        vertical-align: middle;\n",
       "    }\n",
       "\n",
       "    .dataframe tbody tr th {\n",
       "        vertical-align: top;\n",
       "    }\n",
       "\n",
       "    .dataframe thead th {\n",
       "        text-align: right;\n",
       "    }\n",
       "</style>\n",
       "<table border=\"1\" class=\"dataframe\">\n",
       "  <thead>\n",
       "    <tr style=\"text-align: right;\">\n",
       "      <th></th>\n",
       "      <th>CustomerId</th>\n",
       "      <th>Surname</th>\n",
       "      <th>CreditScore</th>\n",
       "      <th>Geography</th>\n",
       "      <th>Gender</th>\n",
       "      <th>Age</th>\n",
       "      <th>Tenure</th>\n",
       "      <th>Balance</th>\n",
       "      <th>NumOfProducts</th>\n",
       "      <th>HasCrCard</th>\n",
       "      <th>IsActiveMember</th>\n",
       "      <th>EstimatedSalary</th>\n",
       "      <th>Exited</th>\n",
       "    </tr>\n",
       "  </thead>\n",
       "  <tbody>\n",
       "    <tr>\n",
       "      <th>0</th>\n",
       "      <td>15634602</td>\n",
       "      <td>Hargrave</td>\n",
       "      <td>619</td>\n",
       "      <td>France</td>\n",
       "      <td>Female</td>\n",
       "      <td>42</td>\n",
       "      <td>2</td>\n",
       "      <td>0.00</td>\n",
       "      <td>1</td>\n",
       "      <td>1</td>\n",
       "      <td>1</td>\n",
       "      <td>101348.88</td>\n",
       "      <td>1</td>\n",
       "    </tr>\n",
       "    <tr>\n",
       "      <th>1</th>\n",
       "      <td>15647311</td>\n",
       "      <td>Hill</td>\n",
       "      <td>608</td>\n",
       "      <td>Spain</td>\n",
       "      <td>Female</td>\n",
       "      <td>41</td>\n",
       "      <td>1</td>\n",
       "      <td>83807.86</td>\n",
       "      <td>1</td>\n",
       "      <td>0</td>\n",
       "      <td>1</td>\n",
       "      <td>112542.58</td>\n",
       "      <td>0</td>\n",
       "    </tr>\n",
       "    <tr>\n",
       "      <th>2</th>\n",
       "      <td>15619304</td>\n",
       "      <td>Onio</td>\n",
       "      <td>502</td>\n",
       "      <td>France</td>\n",
       "      <td>Female</td>\n",
       "      <td>42</td>\n",
       "      <td>8</td>\n",
       "      <td>159660.80</td>\n",
       "      <td>3</td>\n",
       "      <td>1</td>\n",
       "      <td>0</td>\n",
       "      <td>113931.57</td>\n",
       "      <td>1</td>\n",
       "    </tr>\n",
       "    <tr>\n",
       "      <th>3</th>\n",
       "      <td>15701354</td>\n",
       "      <td>Boni</td>\n",
       "      <td>699</td>\n",
       "      <td>France</td>\n",
       "      <td>Female</td>\n",
       "      <td>39</td>\n",
       "      <td>1</td>\n",
       "      <td>0.00</td>\n",
       "      <td>2</td>\n",
       "      <td>0</td>\n",
       "      <td>0</td>\n",
       "      <td>93826.63</td>\n",
       "      <td>0</td>\n",
       "    </tr>\n",
       "    <tr>\n",
       "      <th>4</th>\n",
       "      <td>15737888</td>\n",
       "      <td>Mitchell</td>\n",
       "      <td>850</td>\n",
       "      <td>Spain</td>\n",
       "      <td>Female</td>\n",
       "      <td>43</td>\n",
       "      <td>2</td>\n",
       "      <td>125510.82</td>\n",
       "      <td>1</td>\n",
       "      <td>1</td>\n",
       "      <td>1</td>\n",
       "      <td>79084.10</td>\n",
       "      <td>0</td>\n",
       "    </tr>\n",
       "  </tbody>\n",
       "</table>\n",
       "</div>"
      ],
      "text/plain": [
       "   CustomerId   Surname  CreditScore Geography  Gender  Age  Tenure  \\\n",
       "0    15634602  Hargrave          619    France  Female   42       2   \n",
       "1    15647311      Hill          608     Spain  Female   41       1   \n",
       "2    15619304      Onio          502    France  Female   42       8   \n",
       "3    15701354      Boni          699    France  Female   39       1   \n",
       "4    15737888  Mitchell          850     Spain  Female   43       2   \n",
       "\n",
       "     Balance  NumOfProducts  HasCrCard  IsActiveMember  EstimatedSalary  \\\n",
       "0       0.00              1          1               1        101348.88   \n",
       "1   83807.86              1          0               1        112542.58   \n",
       "2  159660.80              3          1               0        113931.57   \n",
       "3       0.00              2          0               0         93826.63   \n",
       "4  125510.82              1          1               1         79084.10   \n",
       "\n",
       "   Exited  \n",
       "0       1  \n",
       "1       0  \n",
       "2       1  \n",
       "3       0  \n",
       "4       0  "
      ]
     },
     "execution_count": 116,
     "metadata": {},
     "output_type": "execute_result"
    }
   ],
   "source": [
    "bank_df = pd.read_csv('DS3_C6_S2_Classification_BankChurn_Data_Project.csv')\n",
    "bank_df.head()"
   ]
  },
  {
   "cell_type": "code",
   "execution_count": 117,
   "metadata": {
    "colab": {
     "base_uri": "https://localhost:8080/"
    },
    "id": "mq3hjbtcZ-RY",
    "outputId": "dd25d428-894b-4b4f-bd41-152d8de469c2"
   },
   "outputs": [
    {
     "data": {
      "text/plain": [
       "(10000, 13)"
      ]
     },
     "execution_count": 117,
     "metadata": {},
     "output_type": "execute_result"
    }
   ],
   "source": [
    "bank_df.shape"
   ]
  },
  {
   "cell_type": "code",
   "execution_count": 118,
   "metadata": {
    "colab": {
     "base_uri": "https://localhost:8080/"
    },
    "id": "kKDDJaJ4Z-T7",
    "outputId": "c15b57f6-ee6e-4eba-d150-0587122dfe7a"
   },
   "outputs": [
    {
     "name": "stdout",
     "output_type": "stream",
     "text": [
      "<class 'pandas.core.frame.DataFrame'>\n",
      "RangeIndex: 10000 entries, 0 to 9999\n",
      "Data columns (total 13 columns):\n",
      " #   Column           Non-Null Count  Dtype  \n",
      "---  ------           --------------  -----  \n",
      " 0   CustomerId       10000 non-null  int64  \n",
      " 1   Surname          10000 non-null  object \n",
      " 2   CreditScore      10000 non-null  int64  \n",
      " 3   Geography        10000 non-null  object \n",
      " 4   Gender           10000 non-null  object \n",
      " 5   Age              10000 non-null  int64  \n",
      " 6   Tenure           10000 non-null  int64  \n",
      " 7   Balance          10000 non-null  float64\n",
      " 8   NumOfProducts    10000 non-null  int64  \n",
      " 9   HasCrCard        10000 non-null  int64  \n",
      " 10  IsActiveMember   10000 non-null  int64  \n",
      " 11  EstimatedSalary  10000 non-null  float64\n",
      " 12  Exited           10000 non-null  int64  \n",
      "dtypes: float64(2), int64(8), object(3)\n",
      "memory usage: 1015.8+ KB\n"
     ]
    }
   ],
   "source": [
    "bank_df.info()"
   ]
  },
  {
   "cell_type": "code",
   "execution_count": 119,
   "metadata": {
    "colab": {
     "base_uri": "https://localhost:8080/"
    },
    "id": "4XoIae7wZ-Ww",
    "outputId": "95fd706d-1b0f-430f-faa5-6ad9d3fb6ec5"
   },
   "outputs": [
    {
     "data": {
      "text/plain": [
       "CustomerId         0\n",
       "Surname            0\n",
       "CreditScore        0\n",
       "Geography          0\n",
       "Gender             0\n",
       "Age                0\n",
       "Tenure             0\n",
       "Balance            0\n",
       "NumOfProducts      0\n",
       "HasCrCard          0\n",
       "IsActiveMember     0\n",
       "EstimatedSalary    0\n",
       "Exited             0\n",
       "dtype: int64"
      ]
     },
     "execution_count": 119,
     "metadata": {},
     "output_type": "execute_result"
    }
   ],
   "source": [
    "bank_df.isnull().sum()"
   ]
  },
  {
   "cell_type": "code",
   "execution_count": 268,
   "metadata": {
    "colab": {
     "base_uri": "https://localhost:8080/",
     "height": 206
    },
    "id": "6z3QczD9vKMV",
    "outputId": "d0d8cff2-046e-4c73-fc62-94845085ad40"
   },
   "outputs": [
    {
     "data": {
      "text/html": [
       "<div>\n",
       "<style scoped>\n",
       "    .dataframe tbody tr th:only-of-type {\n",
       "        vertical-align: middle;\n",
       "    }\n",
       "\n",
       "    .dataframe tbody tr th {\n",
       "        vertical-align: top;\n",
       "    }\n",
       "\n",
       "    .dataframe thead th {\n",
       "        text-align: right;\n",
       "    }\n",
       "</style>\n",
       "<table border=\"1\" class=\"dataframe\">\n",
       "  <thead>\n",
       "    <tr style=\"text-align: right;\">\n",
       "      <th></th>\n",
       "      <th>Age</th>\n",
       "      <th>Balance</th>\n",
       "      <th>EstimatedSalary</th>\n",
       "      <th>Exited</th>\n",
       "    </tr>\n",
       "  </thead>\n",
       "  <tbody>\n",
       "    <tr>\n",
       "      <th>0</th>\n",
       "      <td>42</td>\n",
       "      <td>0.00</td>\n",
       "      <td>101348.88</td>\n",
       "      <td>1</td>\n",
       "    </tr>\n",
       "    <tr>\n",
       "      <th>1</th>\n",
       "      <td>41</td>\n",
       "      <td>83807.86</td>\n",
       "      <td>112542.58</td>\n",
       "      <td>0</td>\n",
       "    </tr>\n",
       "    <tr>\n",
       "      <th>2</th>\n",
       "      <td>42</td>\n",
       "      <td>159660.80</td>\n",
       "      <td>113931.57</td>\n",
       "      <td>1</td>\n",
       "    </tr>\n",
       "    <tr>\n",
       "      <th>3</th>\n",
       "      <td>39</td>\n",
       "      <td>0.00</td>\n",
       "      <td>93826.63</td>\n",
       "      <td>0</td>\n",
       "    </tr>\n",
       "    <tr>\n",
       "      <th>4</th>\n",
       "      <td>43</td>\n",
       "      <td>125510.82</td>\n",
       "      <td>79084.10</td>\n",
       "      <td>0</td>\n",
       "    </tr>\n",
       "  </tbody>\n",
       "</table>\n",
       "</div>"
      ],
      "text/plain": [
       "   Age    Balance  EstimatedSalary  Exited\n",
       "0   42       0.00        101348.88       1\n",
       "1   41   83807.86        112542.58       0\n",
       "2   42  159660.80        113931.57       1\n",
       "3   39       0.00         93826.63       0\n",
       "4   43  125510.82         79084.10       0"
      ]
     },
     "execution_count": 268,
     "metadata": {},
     "output_type": "execute_result"
    }
   ],
   "source": [
    "b_df = bank_df.drop(['CustomerId','Geography','Gender','Surname','Tenure','IsActiveMember','NumOfProducts','CreditScore','HasCrCard'],axis = 1)\n",
    "b_df.head()"
   ]
  },
  {
   "cell_type": "code",
   "execution_count": 269,
   "metadata": {
    "colab": {
     "base_uri": "https://localhost:8080/",
     "height": 300
    },
    "id": "fq2W6B5oZ-Zt",
    "outputId": "fc955e6d-7aef-4aa7-c8e1-aac5577b1b33"
   },
   "outputs": [
    {
     "data": {
      "text/html": [
       "<div>\n",
       "<style scoped>\n",
       "    .dataframe tbody tr th:only-of-type {\n",
       "        vertical-align: middle;\n",
       "    }\n",
       "\n",
       "    .dataframe tbody tr th {\n",
       "        vertical-align: top;\n",
       "    }\n",
       "\n",
       "    .dataframe thead th {\n",
       "        text-align: right;\n",
       "    }\n",
       "</style>\n",
       "<table border=\"1\" class=\"dataframe\">\n",
       "  <thead>\n",
       "    <tr style=\"text-align: right;\">\n",
       "      <th></th>\n",
       "      <th>Age</th>\n",
       "      <th>Balance</th>\n",
       "      <th>EstimatedSalary</th>\n",
       "      <th>Exited</th>\n",
       "    </tr>\n",
       "  </thead>\n",
       "  <tbody>\n",
       "    <tr>\n",
       "      <th>count</th>\n",
       "      <td>10000.000000</td>\n",
       "      <td>10000.000000</td>\n",
       "      <td>10000.000000</td>\n",
       "      <td>10000.000000</td>\n",
       "    </tr>\n",
       "    <tr>\n",
       "      <th>mean</th>\n",
       "      <td>38.921800</td>\n",
       "      <td>76485.889288</td>\n",
       "      <td>100090.239881</td>\n",
       "      <td>0.203700</td>\n",
       "    </tr>\n",
       "    <tr>\n",
       "      <th>std</th>\n",
       "      <td>10.487806</td>\n",
       "      <td>62397.405202</td>\n",
       "      <td>57510.492818</td>\n",
       "      <td>0.402769</td>\n",
       "    </tr>\n",
       "    <tr>\n",
       "      <th>min</th>\n",
       "      <td>18.000000</td>\n",
       "      <td>0.000000</td>\n",
       "      <td>11.580000</td>\n",
       "      <td>0.000000</td>\n",
       "    </tr>\n",
       "    <tr>\n",
       "      <th>25%</th>\n",
       "      <td>32.000000</td>\n",
       "      <td>0.000000</td>\n",
       "      <td>51002.110000</td>\n",
       "      <td>0.000000</td>\n",
       "    </tr>\n",
       "    <tr>\n",
       "      <th>50%</th>\n",
       "      <td>37.000000</td>\n",
       "      <td>97198.540000</td>\n",
       "      <td>100193.915000</td>\n",
       "      <td>0.000000</td>\n",
       "    </tr>\n",
       "    <tr>\n",
       "      <th>75%</th>\n",
       "      <td>44.000000</td>\n",
       "      <td>127644.240000</td>\n",
       "      <td>149388.247500</td>\n",
       "      <td>0.000000</td>\n",
       "    </tr>\n",
       "    <tr>\n",
       "      <th>max</th>\n",
       "      <td>92.000000</td>\n",
       "      <td>250898.090000</td>\n",
       "      <td>199992.480000</td>\n",
       "      <td>1.000000</td>\n",
       "    </tr>\n",
       "  </tbody>\n",
       "</table>\n",
       "</div>"
      ],
      "text/plain": [
       "                Age        Balance  EstimatedSalary        Exited\n",
       "count  10000.000000   10000.000000     10000.000000  10000.000000\n",
       "mean      38.921800   76485.889288    100090.239881      0.203700\n",
       "std       10.487806   62397.405202     57510.492818      0.402769\n",
       "min       18.000000       0.000000        11.580000      0.000000\n",
       "25%       32.000000       0.000000     51002.110000      0.000000\n",
       "50%       37.000000   97198.540000    100193.915000      0.000000\n",
       "75%       44.000000  127644.240000    149388.247500      0.000000\n",
       "max       92.000000  250898.090000    199992.480000      1.000000"
      ]
     },
     "execution_count": 269,
     "metadata": {},
     "output_type": "execute_result"
    }
   ],
   "source": [
    "b_df.describe()"
   ]
  },
  {
   "cell_type": "markdown",
   "metadata": {
    "id": "gPcz-MX_PyIF"
   },
   "source": [
    "## **Exploratory Data Analysis**"
   ]
  },
  {
   "cell_type": "code",
   "execution_count": 363,
   "metadata": {
    "colab": {
     "base_uri": "https://localhost:8080/",
     "height": 393
    },
    "id": "jEPmmQHCZ-l6",
    "outputId": "164e96a3-1329-4c83-c6dd-e4b2a4d76e42"
   },
   "outputs": [
    {
     "data": {
      "image/png": "[encoded data removed]",
      "text/plain": [
       "<Figure size 1080x432 with 2 Axes>"
      ]
     },
     "metadata": {},
     "output_type": "display_data"
    }
   ],
   "source": [
    "fig,ax=plt.subplots(figsize=(15,6))\n",
    "sns.heatmap(b_df.corr(),cmap='RdPu',annot=True,linewidth=0.5).set_title('Heat Map Analysis')\n",
    "plt.show()"
   ]
  },
  {
   "cell_type": "code",
   "execution_count": 271,
   "metadata": {
    "colab": {
     "base_uri": "https://localhost:8080/",
     "height": 427
    },
    "id": "nVIaG2RbAxEc",
    "outputId": "2be077e1-fc05-4a41-b7f8-61f88da55017"
   },
   "outputs": [
    {
     "data": {
      "image/png": "[encoded data removed]",
      "text/plain": [
       "<Figure size 1080x504 with 1 Axes>"
      ]
     },
     "metadata": {},
     "output_type": "display_data"
    }
   ],
   "source": [
    "fig, ax = plt.subplots(figsize = (15, 7))\n",
    "ax.set_title(\"% Distribution of Exited\") \n",
    "percentage = b_df[\"Exited\"].value_counts() \n",
    "labels = list(b_df[\"Exited\"].value_counts().index) \n",
    "plt.pie(percentage,labels = labels, autopct= \"%0.2f%%\") \n",
    "plt.show()"
   ]
  },
  {
   "cell_type": "code",
   "execution_count": 272,
   "metadata": {
    "id": "qkGI01OrNIJL"
   },
   "outputs": [],
   "source": [
    "def bar_percentage(ax,count:len(b_df)):\n",
    "    for bar in ax.patches:                                            \n",
    "        percentage = f\"{round((bar.get_height() / count) *100, 2)}%\"  \n",
    "        x = bar.get_x() + bar.get_width() /2                         \n",
    "        y = bar.get_height()                                          \n",
    "        ax.annotate(percentage, (x, y), va = \"bottom\", ha = \"center\") \n",
    "                                                                      \n",
    "    plt.show()"
   ]
  },
  {
   "cell_type": "code",
   "execution_count": 273,
   "metadata": {
    "colab": {
     "base_uri": "https://localhost:8080/",
     "height": 502
    },
    "id": "TK2KwRFWEx9f",
    "outputId": "dd2a0a92-94ed-494d-c018-0ab692fe22d1"
   },
   "outputs": [
    {
     "data": {
      "image/png": "[encoded data removed]",
      "text/plain": [
       "<Figure size 1440x576 with 1 Axes>"
      ]
     },
     "metadata": {},
     "output_type": "display_data"
    }
   ],
   "source": [
    "bins=[20,40,60,80]\n",
    "labels=['1-20','21-40','41-60']\n",
    "age=pd.cut(b_df['Age'],bins=bins,labels=labels)\n",
    "age.value_counts()\n",
    "fig, ax = plt.subplots(figsize = (20,8))\n",
    "sns.countplot(hue='Exited',x=age,data = b_df,palette=\"PuBu\")\n",
    "bar_percentage(ax, len(b_df)) \n",
    "\n",
    "plt.show()"
   ]
  },
  {
   "cell_type": "code",
   "execution_count": 274,
   "metadata": {
    "colab": {
     "base_uri": "https://localhost:8080/",
     "height": 502
    },
    "id": "rJSaiWfOGxeM",
    "outputId": "b9b166ef-406f-4a0e-829a-88e895b87228"
   },
   "outputs": [
    {
     "data": {
      "image/png": "[encoded data removed]",
      "text/plain": [
       "<Figure size 1440x576 with 1 Axes>"
      ]
     },
     "metadata": {},
     "output_type": "display_data"
    }
   ],
   "source": [
    "bins=[25000,50000,75000,100000,125000,150000,175000,200000]\n",
    "labels=['10001-25000','25001-50000','50001-75000','75001-100000','100001-125000','125001-150000','150001-175000']\n",
    "\n",
    "sal=pd.cut(b_df['EstimatedSalary'],bins=bins,labels=labels)\n",
    "sal.value_counts()\n",
    "\n",
    "fig, ax = plt.subplots(figsize = (20,8))\n",
    "sns.countplot(hue='Exited',x=sal,data = b_df,palette=\"Set2\")\n",
    "bar_percentage(ax, len(b_df)) \n",
    "\n",
    "plt.show()"
   ]
  },
  {
   "cell_type": "code",
   "execution_count": 275,
   "metadata": {
    "colab": {
     "base_uri": "https://localhost:8080/",
     "height": 363
    },
    "id": "aCaqSveTQc0N",
    "outputId": "75beb267-1697-46d0-d84b-d4bb70bfa902"
   },
   "outputs": [
    {
     "data": {
      "image/png": "[encoded data removed]",
      "text/plain": [
       "<Figure size 1800x432 with 3 Axes>"
      ]
     },
     "metadata": {},
     "output_type": "display_data"
    }
   ],
   "source": [
    "plt.figure(figsize=(25, 6))\n",
    "plt.subplot(1, 3, 1)\n",
    "sns.boxplot(x='Age', data=b_df,color='m')\n",
    "plt.title('Age Distribution')\n",
    "plt.xlabel('Frequency')\n",
    "plt.subplot(1, 3, 2)\n",
    "sns.boxplot(x='Balance', data=b_df,color='lightgreen')\n",
    "plt.title('Balance Distribution')\n",
    "plt.xlabel('Frequency')\n",
    "plt.subplot(1, 3, 3)\n",
    "sns.boxplot(x='EstimatedSalary', data=b_df,color='c')\n",
    "plt.title('Estimated_Salary Distribution')\n",
    "plt.xlabel('Frequency')\n",
    "plt.show()"
   ]
  },
  {
   "cell_type": "code",
   "execution_count": 276,
   "metadata": {
    "colab": {
     "base_uri": "https://localhost:8080/",
     "height": 502
    },
    "id": "oSkvWgtFZ-uD",
    "outputId": "20484104-02f9-421e-ab15-fa23a3723e32"
   },
   "outputs": [
    {
     "data": {
      "image/png": "[encoded data removed]",
      "text/plain": [
       "<Figure size 1440x576 with 1 Axes>"
      ]
     },
     "metadata": {},
     "output_type": "display_data"
    }
   ],
   "source": [
    "bins=[25000,50000,75000,100000,125000,150000,175000,200000,300000]\n",
    "labels=['10001-25000','25001-50000','50001-75000','75001-100000','100001-125000','125001-150000','150001-175000','175001-200000']\n",
    "\n",
    "bal=pd.cut(b_df['Balance'],bins=bins,labels=labels)\n",
    "bal.value_counts()\n",
    "\n",
    "fig, ax = plt.subplots(figsize = (20,8))\n",
    "sns.countplot(hue='Exited',x=bal,data = b_df, palette='Set1')\n",
    "bar_percentage(ax, len(b_df)) \n",
    "\n",
    "plt.show()"
   ]
  },
  {
   "cell_type": "markdown",
   "metadata": {
    "id": "Cfpa9sJstvuJ"
   },
   "source": [
    "## EDA Conclusion\n",
    "\n",
    "- According to the distribution of Exited column, it can be concluded that only 20.37% of customers churned and 70.63% remained.\n",
    "- 12.36% chruning was seen with customers of age between 21-40 years.\n",
    "- It can also be observed that customers with estimated salary between 25000 to 50000 churned out at 2.66%\n",
    "- Customers with bank balance between 75000-100000 churned out at 5.58%.\n",
    "\n"
   ]
  },
  {
   "cell_type": "markdown",
   "metadata": {
    "id": "lyjbX-poURGl"
   },
   "source": [
    "## **Data Mining**"
   ]
  },
  {
   "cell_type": "code",
   "execution_count": 367,
   "metadata": {
    "id": "7VN2t29oZ-2-"
   },
   "outputs": [],
   "source": [
    "X=b_df.drop('Exited', axis=1)\n",
    "y=b_df['Exited']\n",
    "\n",
    "X_train, X_test, y_train, y_test = train_test_split(X, y, test_size= 0.3, random_state=42)"
   ]
  },
  {
   "cell_type": "code",
   "execution_count": 368,
   "metadata": {
    "colab": {
     "base_uri": "https://localhost:8080/"
    },
    "id": "pYaCNrY6hYR9",
    "outputId": "1b6967c8-6a5d-4016-b0b0-71710a8dfc71"
   },
   "outputs": [
    {
     "data": {
      "text/plain": [
       "((7000, 3), (3000, 3), (7000,), (3000,))"
      ]
     },
     "execution_count": 368,
     "metadata": {},
     "output_type": "execute_result"
    }
   ],
   "source": [
    "X_train.shape, X_test.shape, y_train.shape, y_test.shape"
   ]
  },
  {
   "cell_type": "markdown",
   "metadata": {
    "id": "vaGNwPkgGW85"
   },
   "source": [
    "- **Logistic Regression**"
   ]
  },
  {
   "cell_type": "code",
   "execution_count": 280,
   "metadata": {
    "id": "Q9LVjICfhX6Y"
   },
   "outputs": [],
   "source": [
    "clf_log_reg= LogisticRegression()\n",
    "\n",
    "\n",
    "cv = KFold(n_splits=5, random_state=42, shuffle = True)\n",
    "scores_log_reg = cross_val_score(clf_log_reg, X_test, y_test, scoring='accuracy', cv=cv, n_jobs=-1)"
   ]
  },
  {
   "cell_type": "code",
   "execution_count": 281,
   "metadata": {
    "colab": {
     "base_uri": "https://localhost:8080/"
    },
    "id": "SQ_Bm8aS1uwB",
    "outputId": "879d9665-3e81-485b-b1a3-1a65260865f5"
   },
   "outputs": [
    {
     "name": "stdout",
     "output_type": "stream",
     "text": [
      "Accuracy: 80.53 %\n"
     ]
    }
   ],
   "source": [
    "ac_lr_te = np.mean(scores_log_reg)\n",
    "print('Accuracy: %.2f' %round((ac_lr_te)*100,2),'%')"
   ]
  },
  {
   "cell_type": "code",
   "execution_count": 282,
   "metadata": {
    "colab": {
     "base_uri": "https://localhost:8080/"
    },
    "id": "T5xQtXzm6Cuc",
    "outputId": "51acf2e1-b33f-46c7-cf44-6f252a36b498"
   },
   "outputs": [
    {
     "data": {
      "text/plain": [
       "LogisticRegression()"
      ]
     },
     "execution_count": 282,
     "metadata": {},
     "output_type": "execute_result"
    }
   ],
   "source": [
    "clf_log_reg.fit(X_train,y_train)"
   ]
  },
  {
   "cell_type": "code",
   "execution_count": 283,
   "metadata": {
    "colab": {
     "base_uri": "https://localhost:8080/"
    },
    "id": "Ll1rTmNXhm3Y",
    "outputId": "d722f49b-d741-4bd8-88d1-edaf5e09c9fc"
   },
   "outputs": [
    {
     "data": {
      "text/plain": [
       "array([0, 0, 0, ..., 0, 0, 0], dtype=int64)"
      ]
     },
     "execution_count": 283,
     "metadata": {},
     "output_type": "execute_result"
    }
   ],
   "source": [
    "pred_log_reg = clf_log_reg.predict(X_test)\n",
    "pred_log_reg"
   ]
  },
  {
   "cell_type": "code",
   "execution_count": 284,
   "metadata": {
    "colab": {
     "base_uri": "https://localhost:8080/"
    },
    "id": "T6QvCdaeZ_CX",
    "outputId": "0ce859f5-be37-4a3d-fca7-25c150e00b20"
   },
   "outputs": [
    {
     "data": {
      "text/plain": [
       "array([[2416,    0],\n",
       "       [ 584,    0]], dtype=int64)"
      ]
     },
     "execution_count": 284,
     "metadata": {},
     "output_type": "execute_result"
    }
   ],
   "source": [
    "confusion_matrix(y_test,pred_log_reg)"
   ]
  },
  {
   "cell_type": "code",
   "execution_count": 285,
   "metadata": {
    "colab": {
     "base_uri": "https://localhost:8080/",
     "height": 70
    },
    "id": "KwgCDM5v09ow",
    "outputId": "53fc8aa1-74ac-4cf9-f510-b275c7f1f19c"
   },
   "outputs": [
    {
     "name": "stdout",
     "output_type": "stream",
     "text": [
      "              precision    recall  f1-score   support\n",
      "\n",
      "           0       0.81      1.00      0.89      2416\n",
      "           1       0.00      0.00      0.00       584\n",
      "\n",
      "    accuracy                           0.81      3000\n",
      "   macro avg       0.40      0.50      0.45      3000\n",
      "weighted avg       0.65      0.81      0.72      3000\n",
      "\n"
     ]
    }
   ],
   "source": [
    "cr_lr = classification_report(y_test,pred_log_reg)\n",
    "print(cr_lr)"
   ]
  },
  {
   "cell_type": "code",
   "execution_count": 286,
   "metadata": {
    "colab": {
     "base_uri": "https://localhost:8080/"
    },
    "id": "t29kUGCwZ_ba",
    "outputId": "660df4ca-29da-4b20-d73f-9cfd9963618f"
   },
   "outputs": [
    {
     "name": "stdout",
     "output_type": "stream",
     "text": [
      "Roc score for test: 46.55 %\n",
      "Auc score for test: 50.00 %\n"
     ]
    }
   ],
   "source": [
    "roc_lr=roc_auc_score(y_test, clf_log_reg.predict_proba(X_test)[:,1])\n",
    "auc_lr = roc_auc_score(y_test, pred_log_reg)\n",
    "print('Roc score for test: %.2f'%round((roc_lr)*100,2),'%')\n",
    "print('Auc score for test: %.2f'%round((auc_lr)*100,2),'%')\n"
   ]
  },
  {
   "cell_type": "code",
   "execution_count": 287,
   "metadata": {
    "id": "x_kQNEYuXFvK"
   },
   "outputs": [],
   "source": [
    "ns_probs = [0 for _ in range(len(y_test))]\n",
    "lr_probs = clf_log_reg.predict_proba(X_test)"
   ]
  },
  {
   "cell_type": "code",
   "execution_count": 288,
   "metadata": {
    "colab": {
     "base_uri": "https://localhost:8080/",
     "height": 285
    },
    "id": "QLqxyAhMYPTW",
    "outputId": "d205b64e-91e9-449a-df65-8f9a4e1afca3"
   },
   "outputs": [
    {
     "data": {
      "image/png": "[encoded data removed]",
      "text/plain": [
       "<Figure size 576x396 with 1 Axes>"
      ]
     },
     "metadata": {},
     "output_type": "display_data"
    }
   ],
   "source": [
    "ns_fpr, ns_tpr, _ = roc_curve(y_test, ns_probs)\n",
    "lr_fpr, lr_tpr, _ = roc_curve(y_test, lr_probs[:,1])\n",
    "\n",
    "pyplot.plot(ns_fpr, ns_tpr, linestyle='--', label='No Skill',color='red')\n",
    "pyplot.plot(lr_fpr, lr_tpr, marker='<', label='Logistic')\n",
    "pyplot.xlabel('False Positive Rate')\n",
    "pyplot.ylabel('True Positive Rate')\n",
    "pyplot.legend()\n",
    "pyplot.show()"
   ]
  },
  {
   "cell_type": "markdown",
   "metadata": {
    "id": "_bgK2P2TNARi"
   },
   "source": [
    "- **KNN Classifier**"
   ]
  },
  {
   "cell_type": "code",
   "execution_count": 369,
   "metadata": {
    "id": "5mZ6eCUlZ_em"
   },
   "outputs": [],
   "source": [
    "def KNN(k):\n",
    "    knn = KNeighborsClassifier(n_neighbors = k)\n",
    "    knn.fit(X_train, y_train)\n",
    "    pred_k = knn.predict(X_test)\n",
    "    \n",
    "    print('when k = ',k , 'or ',round(knn.score(X_test, y_test)*100,2),'%', \";\", pred_k)"
   ]
  },
  {
   "cell_type": "code",
   "execution_count": 370,
   "metadata": {
    "id": "DUt1uNdLZ_h4"
   },
   "outputs": [
    {
     "name": "stdout",
     "output_type": "stream",
     "text": [
      "when k =  1 or  68.2 % ; [0 0 0 ... 0 0 1]\n",
      "when k =  2 or  78.17 % ; [0 0 0 ... 0 0 0]\n",
      "when k =  3 or  74.1 % ; [0 0 0 ... 0 0 0]\n",
      "when k =  4 or  78.77 % ; [0 0 0 ... 0 0 0]\n",
      "when k =  5 or  77.03 % ; [0 0 0 ... 0 0 1]\n",
      "when k =  6 or  79.5 % ; [0 0 0 ... 0 0 1]\n",
      "when k =  7 or  77.87 % ; [0 0 0 ... 0 0 1]\n",
      "when k =  8 or  79.73 % ; [0 0 0 ... 0 0 1]\n",
      "when k =  9 or  79.07 % ; [0 0 0 ... 0 0 1]\n",
      "when k =  10 or  80.1 % ; [0 0 0 ... 0 0 0]\n",
      "when k =  11 or  79.6 % ; [0 0 0 ... 0 0 1]\n",
      "when k =  12 or  80.03 % ; [0 0 0 ... 0 0 1]\n",
      "when k =  13 or  79.7 % ; [0 0 0 ... 0 0 1]\n",
      "when k =  14 or  79.93 % ; [0 0 0 ... 0 0 0]\n",
      "when k =  15 or  79.77 % ; [0 0 0 ... 0 0 0]\n",
      "when k =  16 or  80.0 % ; [0 0 0 ... 0 0 0]\n",
      "when k =  17 or  79.9 % ; [0 0 0 ... 0 0 0]\n",
      "when k =  18 or  80.27 % ; [0 0 0 ... 0 0 0]\n",
      "when k =  19 or  80.17 % ; [0 0 0 ... 0 0 0]\n",
      "when k =  20 or  80.2 % ; [0 0 0 ... 0 0 0]\n"
     ]
    }
   ],
   "source": [
    "for i in range(1,21):\n",
    "    KNN(i)"
   ]
  },
  {
   "cell_type": "code",
   "execution_count": 371,
   "metadata": {
    "id": "LmRWZc2HZ_lN"
   },
   "outputs": [],
   "source": [
    "knn = KNeighborsClassifier(n_neighbors = 18)\n",
    "\n",
    "cv1 = KFold(n_splits=5, random_state=42, shuffle = True)\n",
    "scores_knn = cross_val_score(knn, X_test, y_test, scoring='accuracy', cv=cv1, n_jobs=-1)"
   ]
  },
  {
   "cell_type": "code",
   "execution_count": 372,
   "metadata": {
    "colab": {
     "base_uri": "https://localhost:8080/"
    },
    "id": "OTW-dO__P78_",
    "outputId": "c83d2184-ef48-484c-d321-6318e0702f3f"
   },
   "outputs": [
    {
     "name": "stdout",
     "output_type": "stream",
     "text": [
      "Accuracy: 80.50 %\n"
     ]
    }
   ],
   "source": [
    "ac_knn_te = np.mean(scores_knn)\n",
    "print('Accuracy: %.2f' %round((ac_knn_te)*100,2),'%')"
   ]
  },
  {
   "cell_type": "code",
   "execution_count": 373,
   "metadata": {
    "colab": {
     "base_uri": "https://localhost:8080/"
    },
    "id": "Qe5HWF96Z_oH",
    "outputId": "95ab2de6-72f1-484d-9f24-825f18699343"
   },
   "outputs": [
    {
     "data": {
      "text/plain": [
       "array([0, 0, 0, ..., 0, 0, 0], dtype=int64)"
      ]
     },
     "execution_count": 373,
     "metadata": {},
     "output_type": "execute_result"
    }
   ],
   "source": [
    "knn.fit(X_train, y_train)\n",
    "pred_knn = knn.predict(X_test)\n",
    "pred_knn"
   ]
  },
  {
   "cell_type": "code",
   "execution_count": 374,
   "metadata": {
    "colab": {
     "base_uri": "https://localhost:8080/"
    },
    "id": "dNed51wsZ_rL",
    "outputId": "acaf7b4b-7ac4-466b-8797-5dff3d20bbaf"
   },
   "outputs": [
    {
     "data": {
      "text/plain": [
       "array([[2403,   13],\n",
       "       [ 579,    5]], dtype=int64)"
      ]
     },
     "execution_count": 374,
     "metadata": {},
     "output_type": "execute_result"
    }
   ],
   "source": [
    "confusion_matrix(y_test,pred_knn)"
   ]
  },
  {
   "cell_type": "code",
   "execution_count": 375,
   "metadata": {},
   "outputs": [
    {
     "name": "stdout",
     "output_type": "stream",
     "text": [
      "              precision    recall  f1-score   support\n",
      "\n",
      "           0       0.81      0.99      0.89      2416\n",
      "           1       0.28      0.01      0.02       584\n",
      "\n",
      "    accuracy                           0.80      3000\n",
      "   macro avg       0.54      0.50      0.45      3000\n",
      "weighted avg       0.70      0.80      0.72      3000\n",
      "\n"
     ]
    }
   ],
   "source": [
    "cr_knn = classification_report(y_test,pred_knn)\n",
    "print(cr_knn)"
   ]
  },
  {
   "cell_type": "code",
   "execution_count": 376,
   "metadata": {
    "colab": {
     "base_uri": "https://localhost:8080/"
    },
    "id": "U36Htjb4Z_yG",
    "outputId": "a7a4b81b-8fa6-4c9f-fcb9-daf3aab860ed"
   },
   "outputs": [
    {
     "name": "stdout",
     "output_type": "stream",
     "text": [
      "Roc score for test: 54.39 %\n",
      "Auc score for test: 50.16 %\n"
     ]
    }
   ],
   "source": [
    "roc_knn=roc_auc_score(y_test, knn.predict_proba(X_test)[:,1])\n",
    "auc_knn = roc_auc_score(y_test, pred_knn)\n",
    "print('Roc score for test: %.2f'%round((roc_knn)*100,2),'%')\n",
    "print('Auc score for test: %.2f'%round((auc_knn)*100,2),'%')"
   ]
  },
  {
   "cell_type": "code",
   "execution_count": 377,
   "metadata": {
    "id": "h3amZvX8Z4NZ"
   },
   "outputs": [],
   "source": [
    "ns_probs_k = [0 for _ in range(len(y_test))]\n",
    "kn_probs = knn.predict_proba(X_test)"
   ]
  },
  {
   "cell_type": "code",
   "execution_count": 378,
   "metadata": {
    "colab": {
     "base_uri": "https://localhost:8080/",
     "height": 285
    },
    "id": "WgTJ9AkuZ4Kp",
    "outputId": "0f8d5955-e2f6-4d00-ca5a-e8996c0ee9b4"
   },
   "outputs": [
    {
     "data": {
      "image/png": "[encoded data removed]",
      "text/plain": [
       "<Figure size 576x396 with 1 Axes>"
      ]
     },
     "metadata": {},
     "output_type": "display_data"
    }
   ],
   "source": [
    "ns_fpr, ns_tpr, _ = roc_curve(y_test, ns_probs_k)\n",
    "lr_fpr, lr_tpr, _ = roc_curve(y_test, kn_probs[:,1])\n",
    "\n",
    "pyplot.plot(ns_fpr, ns_tpr, linestyle='--', label='No Skill',color='red')\n",
    "pyplot.plot(lr_fpr, lr_tpr, marker='<', label='KNN')\n",
    "pyplot.xlabel('False Positive Rate')\n",
    "pyplot.ylabel('True Positive Rate')\n",
    "pyplot.legend()\n",
    "pyplot.show()"
   ]
  },
  {
   "cell_type": "markdown",
   "metadata": {
    "id": "HSb3rLqfR-WQ"
   },
   "source": [
    "- **Gaussian Naive Bayes**"
   ]
  },
  {
   "cell_type": "code",
   "execution_count": 299,
   "metadata": {
    "id": "V4r8GDfSR95_"
   },
   "outputs": [],
   "source": [
    "gnb = GaussianNB()\n",
    "\n",
    "cv2 = KFold(n_splits=5, random_state=42, shuffle = True)\n",
    "scores_gnb = cross_val_score(gnb, X_test, y_test, scoring='accuracy', cv=cv2, n_jobs=-1)"
   ]
  },
  {
   "cell_type": "code",
   "execution_count": 300,
   "metadata": {
    "colab": {
     "base_uri": "https://localhost:8080/"
    },
    "id": "0vDeomJ_Z_06",
    "outputId": "fdb16548-bf0d-4dff-fcc1-66600bcbf79d"
   },
   "outputs": [
    {
     "name": "stdout",
     "output_type": "stream",
     "text": [
      "Accuracy: 78.87 %\n"
     ]
    }
   ],
   "source": [
    "ac_gnb_te = np.mean(scores_gnb)\n",
    "print('Accuracy: %.2f' %round((ac_gnb_te)*100,2),'%')"
   ]
  },
  {
   "cell_type": "code",
   "execution_count": 301,
   "metadata": {
    "colab": {
     "base_uri": "https://localhost:8080/"
    },
    "id": "PSSN9GHgZ_36",
    "outputId": "5cc6e371-ddf6-407d-c08c-44608a75ed60"
   },
   "outputs": [
    {
     "data": {
      "text/plain": [
       "array([0, 0, 0, ..., 0, 0, 0], dtype=int64)"
      ]
     },
     "execution_count": 301,
     "metadata": {},
     "output_type": "execute_result"
    }
   ],
   "source": [
    "gnb.fit(X_train, y_train)\n",
    "pred_gnb = gnb.predict(X_test)\n",
    "pred_gnb"
   ]
  },
  {
   "cell_type": "code",
   "execution_count": 302,
   "metadata": {
    "colab": {
     "base_uri": "https://localhost:8080/"
    },
    "id": "a7wlyD77Z_6t",
    "outputId": "a842e678-6596-4044-d545-030fb43e167f"
   },
   "outputs": [
    {
     "data": {
      "text/plain": [
       "array([[2326,   90],\n",
       "       [ 543,   41]], dtype=int64)"
      ]
     },
     "execution_count": 302,
     "metadata": {},
     "output_type": "execute_result"
    }
   ],
   "source": [
    "confusion_matrix(y_test,pred_gnb)"
   ]
  },
  {
   "cell_type": "code",
   "execution_count": 303,
   "metadata": {},
   "outputs": [
    {
     "name": "stdout",
     "output_type": "stream",
     "text": [
      "              precision    recall  f1-score   support\n",
      "\n",
      "           0       0.81      0.96      0.88      2416\n",
      "           1       0.31      0.07      0.11       584\n",
      "\n",
      "    accuracy                           0.79      3000\n",
      "   macro avg       0.56      0.52      0.50      3000\n",
      "weighted avg       0.71      0.79      0.73      3000\n",
      "\n"
     ]
    }
   ],
   "source": [
    "cr_gnb = classification_report(y_test,pred_gnb)\n",
    "print(cr_gnb)"
   ]
  },
  {
   "cell_type": "code",
   "execution_count": 304,
   "metadata": {
    "colab": {
     "base_uri": "https://localhost:8080/"
    },
    "id": "SXt5jFuFZ_9f",
    "outputId": "c2c06586-059b-4675-d82e-b5942fda51e0"
   },
   "outputs": [
    {
     "name": "stdout",
     "output_type": "stream",
     "text": [
      "Roc score for test: 73.94 %\n",
      "Auc score for test: 51.65 %\n"
     ]
    }
   ],
   "source": [
    "roc_gnb=roc_auc_score(y_test, gnb.predict_proba(X_test)[:,1])\n",
    "auc_gnb = roc_auc_score(y_test, pred_gnb)\n",
    "print('Roc score for test: %.2f'%round((roc_gnb)*100,2),'%')\n",
    "print('Auc score for test: %.2f'%round((auc_gnb)*100,2),'%')"
   ]
  },
  {
   "cell_type": "code",
   "execution_count": 305,
   "metadata": {
    "id": "40lyoKtfaod7"
   },
   "outputs": [],
   "source": [
    "ns_probs_g = [0 for _ in range(len(y_test))]\n",
    "gnb_probs = gnb.predict_proba(X_test)"
   ]
  },
  {
   "cell_type": "code",
   "execution_count": 306,
   "metadata": {
    "colab": {
     "base_uri": "https://localhost:8080/",
     "height": 285
    },
    "id": "pavOWiE0aobd",
    "outputId": "cfbc8e30-8644-48bb-8c08-cd96b61a9134"
   },
   "outputs": [
    {
     "data": {
      "image/png": "[encoded data removed]",
      "text/plain": [
       "<Figure size 576x396 with 1 Axes>"
      ]
     },
     "metadata": {},
     "output_type": "display_data"
    }
   ],
   "source": [
    "ns_fpr, ns_tpr, _ = roc_curve(y_test, ns_probs_g)\n",
    "lr_fpr, lr_tpr, _ = roc_curve(y_test, gnb_probs[:,1])\n",
    "\n",
    "pyplot.plot(ns_fpr, ns_tpr, linestyle='--', label='No Skill',color='red')\n",
    "pyplot.plot(lr_fpr, lr_tpr, marker='<', label='GaussianNB')\n",
    "pyplot.xlabel('False Positive Rate')\n",
    "pyplot.ylabel('True Positive Rate')\n",
    "pyplot.legend()\n",
    "pyplot.show()"
   ]
  },
  {
   "cell_type": "markdown",
   "metadata": {
    "id": "6TuRmhaNTHVu"
   },
   "source": [
    "- **Decision Tree Classifier**"
   ]
  },
  {
   "cell_type": "code",
   "execution_count": 307,
   "metadata": {
    "id": "DfYx_ofNaAAX"
   },
   "outputs": [],
   "source": [
    "dtc = DecisionTreeClassifier()\n",
    "\n",
    "cv3 = KFold(n_splits=5, random_state=42, shuffle = True)\n",
    "scores_dtc = cross_val_score(dtc, X_test, y_test, scoring='accuracy', cv=cv3, n_jobs=-1)"
   ]
  },
  {
   "cell_type": "code",
   "execution_count": 308,
   "metadata": {
    "colab": {
     "base_uri": "https://localhost:8080/"
    },
    "id": "D3wVDBQnaADR",
    "outputId": "e0b9cacb-7192-4ad6-9452-6aa813bc3044"
   },
   "outputs": [
    {
     "name": "stdout",
     "output_type": "stream",
     "text": [
      "Accuracy: 73.20 %\n"
     ]
    }
   ],
   "source": [
    "ac_dtc_te = np.mean(scores_dtc)\n",
    "print('Accuracy: %.2f' %round((ac_dtc_te)*100,2),'%')"
   ]
  },
  {
   "cell_type": "code",
   "execution_count": 309,
   "metadata": {
    "colab": {
     "base_uri": "https://localhost:8080/"
    },
    "id": "pWdJvdQKaAGf",
    "outputId": "fb305dd6-574c-44ba-89c7-de8cf43af222"
   },
   "outputs": [
    {
     "data": {
      "text/plain": [
       "array([0, 0, 0, ..., 0, 0, 0], dtype=int64)"
      ]
     },
     "execution_count": 309,
     "metadata": {},
     "output_type": "execute_result"
    }
   ],
   "source": [
    "dtc.fit(X_train, y_train)\n",
    "pred_dtc = dtc.predict(X_test)\n",
    "pred_dtc"
   ]
  },
  {
   "cell_type": "code",
   "execution_count": 310,
   "metadata": {
    "colab": {
     "base_uri": "https://localhost:8080/"
    },
    "id": "dYmLpBPnaAPf",
    "outputId": "1151419c-41a5-4217-c5c0-09d683c46194"
   },
   "outputs": [
    {
     "data": {
      "text/plain": [
       "array([[1971,  445],\n",
       "       [ 394,  190]], dtype=int64)"
      ]
     },
     "execution_count": 310,
     "metadata": {},
     "output_type": "execute_result"
    }
   ],
   "source": [
    "confusion_matrix(y_test,pred_dtc)"
   ]
  },
  {
   "cell_type": "code",
   "execution_count": 311,
   "metadata": {},
   "outputs": [
    {
     "name": "stdout",
     "output_type": "stream",
     "text": [
      "              precision    recall  f1-score   support\n",
      "\n",
      "           0       0.83      0.82      0.82      2416\n",
      "           1       0.30      0.33      0.31       584\n",
      "\n",
      "    accuracy                           0.72      3000\n",
      "   macro avg       0.57      0.57      0.57      3000\n",
      "weighted avg       0.73      0.72      0.72      3000\n",
      "\n"
     ]
    }
   ],
   "source": [
    "cr_dtc = classification_report(y_test,pred_dtc)\n",
    "print(cr_dtc)"
   ]
  },
  {
   "cell_type": "code",
   "execution_count": 312,
   "metadata": {
    "colab": {
     "base_uri": "https://localhost:8080/"
    },
    "id": "DkKH5Yc-aAUP",
    "outputId": "270c0ba9-962e-4616-dfbf-fe65161edc43"
   },
   "outputs": [
    {
     "name": "stdout",
     "output_type": "stream",
     "text": [
      "Roc score for test: 57.06 %\n",
      "Auc score for test: 57.06 %\n"
     ]
    }
   ],
   "source": [
    "roc_dtc=roc_auc_score(y_test, dtc.predict_proba(X_test)[:,1])\n",
    "auc_dtc = roc_auc_score(y_test, pred_dtc)\n",
    "print('Roc score for test: %.2f'%round((roc_dtc)*100,2),'%')\n",
    "print('Auc score for test: %.2f'%round((auc_dtc)*100,2),'%')"
   ]
  },
  {
   "cell_type": "code",
   "execution_count": 313,
   "metadata": {
    "id": "HAe8u2Dqa_ZN"
   },
   "outputs": [],
   "source": [
    "ns_probs_dt = [0 for _ in range(len(y_test))]\n",
    "dt_probs = dtc.predict_proba(X_test)"
   ]
  },
  {
   "cell_type": "code",
   "execution_count": 314,
   "metadata": {
    "colab": {
     "base_uri": "https://localhost:8080/",
     "height": 285
    },
    "id": "dpWEWzfda_WP",
    "outputId": "c8d5f673-95e7-4e47-ae13-7f8daf9dfe1b"
   },
   "outputs": [
    {
     "data": {
      "image/png": "[encoded data removed]",
      "text/plain": [
       "<Figure size 576x396 with 1 Axes>"
      ]
     },
     "metadata": {},
     "output_type": "display_data"
    }
   ],
   "source": [
    "ns_fpr, ns_tpr, _ = roc_curve(y_test, ns_probs_dt)\n",
    "lr_fpr, lr_tpr, _ = roc_curve(y_test, dt_probs[:,1])\n",
    "\n",
    "pyplot.plot(ns_fpr, ns_tpr, linestyle='--', label='No Skill',color='red')\n",
    "pyplot.plot(lr_fpr, lr_tpr, marker='<', label='DTC')\n",
    "pyplot.xlabel('False Positive Rate')\n",
    "pyplot.ylabel('True Positive Rate')\n",
    "pyplot.legend()\n",
    "pyplot.show()"
   ]
  },
  {
   "cell_type": "markdown",
   "metadata": {
    "id": "FlnYc2rnUlZY"
   },
   "source": [
    "- **Random Forest Classifier**"
   ]
  },
  {
   "cell_type": "code",
   "execution_count": 315,
   "metadata": {
    "id": "-uCbIRw9aAXO"
   },
   "outputs": [],
   "source": [
    "rfc = RandomForestClassifier()\n",
    "\n",
    "cv4 = KFold(n_splits=5, random_state=42, shuffle = True)\n",
    "scores_rfc = cross_val_score(rfc, X_test, y_test, scoring='accuracy', cv=cv4, n_jobs=-1)"
   ]
  },
  {
   "cell_type": "code",
   "execution_count": 316,
   "metadata": {
    "colab": {
     "base_uri": "https://localhost:8080/"
    },
    "id": "P0bdVZwlaAZy",
    "outputId": "18892c1e-96c3-4063-f329-48aedf8b1a8b"
   },
   "outputs": [
    {
     "name": "stdout",
     "output_type": "stream",
     "text": [
      "Accuracy: 78.27 %\n"
     ]
    }
   ],
   "source": [
    "ac_rfc_te = np.mean(scores_rfc)\n",
    "print('Accuracy: %.2f' %round((ac_rfc_te)*100,2),'%')"
   ]
  },
  {
   "cell_type": "code",
   "execution_count": 317,
   "metadata": {
    "colab": {
     "base_uri": "https://localhost:8080/"
    },
    "id": "1fbEDmIvaAcy",
    "outputId": "064dadab-43b8-45fb-e3ef-b9e8bb7322ce"
   },
   "outputs": [
    {
     "data": {
      "text/plain": [
       "array([0, 1, 0, ..., 0, 0, 0], dtype=int64)"
      ]
     },
     "execution_count": 317,
     "metadata": {},
     "output_type": "execute_result"
    }
   ],
   "source": [
    "rfc.fit(X_train, y_train)\n",
    "pred_rfc = rfc.predict(X_test)\n",
    "pred_rfc"
   ]
  },
  {
   "cell_type": "code",
   "execution_count": 318,
   "metadata": {
    "colab": {
     "base_uri": "https://localhost:8080/"
    },
    "id": "CfjStC6PaAfo",
    "outputId": "db462cb4-97d9-43f3-ee62-3e2cc0abefe5"
   },
   "outputs": [
    {
     "data": {
      "text/plain": [
       "array([[2191,  225],\n",
       "       [ 414,  170]], dtype=int64)"
      ]
     },
     "execution_count": 318,
     "metadata": {},
     "output_type": "execute_result"
    }
   ],
   "source": [
    "confusion_matrix(y_test,pred_rfc)"
   ]
  },
  {
   "cell_type": "code",
   "execution_count": 319,
   "metadata": {},
   "outputs": [
    {
     "name": "stdout",
     "output_type": "stream",
     "text": [
      "              precision    recall  f1-score   support\n",
      "\n",
      "           0       0.84      0.91      0.87      2416\n",
      "           1       0.43      0.29      0.35       584\n",
      "\n",
      "    accuracy                           0.79      3000\n",
      "   macro avg       0.64      0.60      0.61      3000\n",
      "weighted avg       0.76      0.79      0.77      3000\n",
      "\n"
     ]
    }
   ],
   "source": [
    "cr_rfc = classification_report(y_test,pred_rfc)\n",
    "print(cr_rfc)"
   ]
  },
  {
   "cell_type": "code",
   "execution_count": 320,
   "metadata": {
    "colab": {
     "base_uri": "https://localhost:8080/"
    },
    "id": "bRRcij78aAi0",
    "outputId": "b16d0cbc-5015-48b7-e40c-49436f8bfa11"
   },
   "outputs": [
    {
     "name": "stdout",
     "output_type": "stream",
     "text": [
      "Roc score for test: 70.64 %\n",
      "Auc score for test: 59.90 %\n"
     ]
    }
   ],
   "source": [
    "roc_rfc=roc_auc_score(y_test, rfc.predict_proba(X_test)[:,1])\n",
    "auc_rfc = roc_auc_score(y_test, pred_rfc)\n",
    "print('Roc score for test: %.2f'%round((roc_rfc)*100,2),'%')\n",
    "print('Auc score for test: %.2f'%round((auc_rfc)*100,2),'%')"
   ]
  },
  {
   "cell_type": "code",
   "execution_count": 321,
   "metadata": {
    "id": "0unlKAffbRpo"
   },
   "outputs": [],
   "source": [
    "ns_probs_rf = [0 for _ in range(len(y_test))]\n",
    "rf_probs = rfc.predict_proba(X_test)"
   ]
  },
  {
   "cell_type": "code",
   "execution_count": 322,
   "metadata": {
    "colab": {
     "base_uri": "https://localhost:8080/",
     "height": 285
    },
    "id": "8HOmZ6JHbRWF",
    "outputId": "f1ddb79d-e5b2-4fb1-e752-30ddb26c2e2b"
   },
   "outputs": [
    {
     "data": {
      "image/png": "[encoded data removed]",
      "text/plain": [
       "<Figure size 576x396 with 1 Axes>"
      ]
     },
     "metadata": {},
     "output_type": "display_data"
    }
   ],
   "source": [
    "ns_fpr, ns_tpr, _ = roc_curve(y_test, ns_probs_rf)\n",
    "lr_fpr, lr_tpr, _ = roc_curve(y_test, rf_probs[:,1])\n",
    "\n",
    "pyplot.plot(ns_fpr, ns_tpr, linestyle='--', label='No Skill',color='red')\n",
    "pyplot.plot(lr_fpr, lr_tpr, marker='<', label='RF')\n",
    "pyplot.xlabel('False Positive Rate')\n",
    "pyplot.ylabel('True Positive Rate')\n",
    "pyplot.legend()\n",
    "pyplot.show()"
   ]
  },
  {
   "cell_type": "code",
   "execution_count": 323,
   "metadata": {},
   "outputs": [],
   "source": [
    "abc = AdaBoostClassifier()\n",
    "\n",
    "cv5 = KFold(n_splits=5,random_state=42,shuffle=True)\n",
    "scores_abc = cross_val_score(abc, X_test, y_test, scoring='accuracy', cv=cv5, n_jobs=-1)"
   ]
  },
  {
   "cell_type": "code",
   "execution_count": 324,
   "metadata": {},
   "outputs": [
    {
     "name": "stdout",
     "output_type": "stream",
     "text": [
      "Accuracy: 80.93 %\n"
     ]
    }
   ],
   "source": [
    "ac_abc_te = np.mean(scores_abc)\n",
    "print('Accuracy: %.2f' %round((ac_abc_te)*100,2),'%')"
   ]
  },
  {
   "cell_type": "code",
   "execution_count": 325,
   "metadata": {},
   "outputs": [
    {
     "data": {
      "text/plain": [
       "array([0, 0, 0, ..., 0, 0, 0], dtype=int64)"
      ]
     },
     "execution_count": 325,
     "metadata": {},
     "output_type": "execute_result"
    }
   ],
   "source": [
    "abc.fit(X_train, y_train)\n",
    "pred_abc = abc.predict(X_test)\n",
    "pred_abc"
   ]
  },
  {
   "cell_type": "code",
   "execution_count": 326,
   "metadata": {},
   "outputs": [
    {
     "data": {
      "text/plain": [
       "array([[2247,  169],\n",
       "       [ 385,  199]], dtype=int64)"
      ]
     },
     "execution_count": 326,
     "metadata": {},
     "output_type": "execute_result"
    }
   ],
   "source": [
    "confusion_matrix(y_test,pred_abc)"
   ]
  },
  {
   "cell_type": "code",
   "execution_count": 327,
   "metadata": {},
   "outputs": [
    {
     "name": "stdout",
     "output_type": "stream",
     "text": [
      "              precision    recall  f1-score   support\n",
      "\n",
      "           0       0.85      0.93      0.89      2416\n",
      "           1       0.54      0.34      0.42       584\n",
      "\n",
      "    accuracy                           0.82      3000\n",
      "   macro avg       0.70      0.64      0.65      3000\n",
      "weighted avg       0.79      0.82      0.80      3000\n",
      "\n"
     ]
    }
   ],
   "source": [
    "cr_abc = classification_report(y_test,pred_abc)\n",
    "print(cr_abc)"
   ]
  },
  {
   "cell_type": "code",
   "execution_count": 328,
   "metadata": {},
   "outputs": [
    {
     "name": "stdout",
     "output_type": "stream",
     "text": [
      "Roc score for test: 76.01 %\n",
      "Auc score for test: 63.54 %\n"
     ]
    }
   ],
   "source": [
    "roc_abc=roc_auc_score(y_test, abc.predict_proba(X_test)[:,1])\n",
    "auc_abc = roc_auc_score(y_test, pred_abc)\n",
    "print('Roc score for test: %.2f'%round((roc_abc)*100,2),'%')\n",
    "print('Auc score for test: %.2f'%round((auc_abc)*100,2),'%')"
   ]
  },
  {
   "cell_type": "code",
   "execution_count": 329,
   "metadata": {},
   "outputs": [],
   "source": [
    "ns_probs_abc = [0 for _ in range(len(y_test))]\n",
    "abc_probs = abc.predict_proba(X_test)"
   ]
  },
  {
   "cell_type": "code",
   "execution_count": 330,
   "metadata": {},
   "outputs": [
    {
     "data": {
      "image/png": "[encoded data removed]",
      "text/plain": [
       "<Figure size 576x396 with 1 Axes>"
      ]
     },
     "metadata": {},
     "output_type": "display_data"
    }
   ],
   "source": [
    "ns_fpr, ns_tpr, _ = roc_curve(y_test, ns_probs_abc)\n",
    "lr_fpr, lr_tpr, _ = roc_curve(y_test, abc_probs[:,1])\n",
    "\n",
    "pyplot.plot(ns_fpr, ns_tpr, linestyle='--', label='No Skill',color='red')\n",
    "pyplot.plot(lr_fpr, lr_tpr, marker='<', label='GradientBoost')\n",
    "pyplot.xlabel('False Positive Rate')\n",
    "pyplot.ylabel('True Positive Rate')\n",
    "pyplot.legend()\n",
    "pyplot.show()"
   ]
  },
  {
   "cell_type": "markdown",
   "metadata": {
    "id": "efg4qJunu3Po"
   },
   "source": [
    "- **Comparing Results**"
   ]
  },
  {
   "cell_type": "code",
   "execution_count": 379,
   "metadata": {
    "id": "yYS7oyByaAmE"
   },
   "outputs": [],
   "source": [
    "model_result = [['ACCURACY',ac_lr_te, ac_knn_te, ac_gnb_te, ac_dtc_te, ac_rfc_te, ac_abc_te],\n",
    "                ['ROC', roc_lr, roc_knn, roc_gnb, roc_dtc, roc_rfc, roc_abc],\n",
    "                ['AUC', auc_lr, auc_knn, auc_gnb, auc_dtc,auc_rfc, auc_abc]]"
   ]
  },
  {
   "cell_type": "code",
   "execution_count": 380,
   "metadata": {
    "colab": {
     "base_uri": "https://localhost:8080/",
     "height": 143
    },
    "id": "0GbUbsb_aAqL",
    "outputId": "62460c18-2ffd-45b7-814e-f6c6ce2b9941"
   },
   "outputs": [
    {
     "data": {
      "text/html": [
       "<div>\n",
       "<style scoped>\n",
       "    .dataframe tbody tr th:only-of-type {\n",
       "        vertical-align: middle;\n",
       "    }\n",
       "\n",
       "    .dataframe tbody tr th {\n",
       "        vertical-align: top;\n",
       "    }\n",
       "\n",
       "    .dataframe thead th {\n",
       "        text-align: right;\n",
       "    }\n",
       "</style>\n",
       "<table border=\"1\" class=\"dataframe\">\n",
       "  <thead>\n",
       "    <tr style=\"text-align: right;\">\n",
       "      <th></th>\n",
       "      <th>Scores</th>\n",
       "      <th>Log_Reg</th>\n",
       "      <th>KNN</th>\n",
       "      <th>GaussianNB</th>\n",
       "      <th>Decision_Tree</th>\n",
       "      <th>Random_Forest</th>\n",
       "      <th>AdaBoost</th>\n",
       "    </tr>\n",
       "  </thead>\n",
       "  <tbody>\n",
       "    <tr>\n",
       "      <th>0</th>\n",
       "      <td>ACCURACY</td>\n",
       "      <td>0.805333</td>\n",
       "      <td>0.805000</td>\n",
       "      <td>0.788667</td>\n",
       "      <td>0.732000</td>\n",
       "      <td>0.782667</td>\n",
       "      <td>0.809333</td>\n",
       "    </tr>\n",
       "    <tr>\n",
       "      <th>1</th>\n",
       "      <td>ROC</td>\n",
       "      <td>0.465459</td>\n",
       "      <td>0.543877</td>\n",
       "      <td>0.739362</td>\n",
       "      <td>0.570577</td>\n",
       "      <td>0.706368</td>\n",
       "      <td>0.760092</td>\n",
       "    </tr>\n",
       "    <tr>\n",
       "      <th>2</th>\n",
       "      <td>AUC</td>\n",
       "      <td>0.500000</td>\n",
       "      <td>0.501590</td>\n",
       "      <td>0.516477</td>\n",
       "      <td>0.570577</td>\n",
       "      <td>0.598983</td>\n",
       "      <td>0.635402</td>\n",
       "    </tr>\n",
       "  </tbody>\n",
       "</table>\n",
       "</div>"
      ],
      "text/plain": [
       "     Scores   Log_Reg       KNN  GaussianNB  Decision_Tree  Random_Forest  \\\n",
       "0  ACCURACY  0.805333  0.805000    0.788667       0.732000       0.782667   \n",
       "1       ROC  0.465459  0.543877    0.739362       0.570577       0.706368   \n",
       "2       AUC  0.500000  0.501590    0.516477       0.570577       0.598983   \n",
       "\n",
       "   AdaBoost  \n",
       "0  0.809333  \n",
       "1  0.760092  \n",
       "2  0.635402  "
      ]
     },
     "execution_count": 380,
     "metadata": {},
     "output_type": "execute_result"
    }
   ],
   "source": [
    "score = pd.DataFrame(model_result, columns=['Scores','Log_Reg','KNN','GaussianNB','Decision_Tree','Random_Forest','AdaBoost'])\n",
    "score"
   ]
  },
  {
   "cell_type": "markdown",
   "metadata": {
    "id": "UwcoKJrsu8Ti"
   },
   "source": [
    "- **Predictions based on AdaBoost Classifier**"
   ]
  },
  {
   "cell_type": "code",
   "execution_count": 354,
   "metadata": {
    "id": "MyKY5-f5mCet"
   },
   "outputs": [],
   "source": [
    "X_test = b_df.drop(columns=['Exited'])"
   ]
  },
  {
   "cell_type": "code",
   "execution_count": 355,
   "metadata": {
    "id": "KD6gmxMBaAv4"
   },
   "outputs": [],
   "source": [
    "pred = abc.predict(X_test)\n",
    "\n",
    "predictions = b_df.copy()\n",
    "predictions['Churn_Pred'] = pred\n"
   ]
  },
  {
   "cell_type": "code",
   "execution_count": 356,
   "metadata": {
    "colab": {
     "base_uri": "https://localhost:8080/",
     "height": 424
    },
    "id": "dGPFC0PaaAyq",
    "outputId": "fc2b93be-5df7-4a9d-9830-86c529b791d0"
   },
   "outputs": [
    {
     "data": {
      "text/html": [
       "<div>\n",
       "<style scoped>\n",
       "    .dataframe tbody tr th:only-of-type {\n",
       "        vertical-align: middle;\n",
       "    }\n",
       "\n",
       "    .dataframe tbody tr th {\n",
       "        vertical-align: top;\n",
       "    }\n",
       "\n",
       "    .dataframe thead th {\n",
       "        text-align: right;\n",
       "    }\n",
       "</style>\n",
       "<table border=\"1\" class=\"dataframe\">\n",
       "  <thead>\n",
       "    <tr style=\"text-align: right;\">\n",
       "      <th></th>\n",
       "      <th>Age</th>\n",
       "      <th>Balance</th>\n",
       "      <th>EstimatedSalary</th>\n",
       "      <th>Exited</th>\n",
       "      <th>Churn_Pred</th>\n",
       "      <th>Churn_Pred_Prob</th>\n",
       "    </tr>\n",
       "  </thead>\n",
       "  <tbody>\n",
       "    <tr>\n",
       "      <th>0</th>\n",
       "      <td>42</td>\n",
       "      <td>0.00</td>\n",
       "      <td>101348.88</td>\n",
       "      <td>1</td>\n",
       "      <td>0</td>\n",
       "      <td>0.491313</td>\n",
       "    </tr>\n",
       "    <tr>\n",
       "      <th>1</th>\n",
       "      <td>41</td>\n",
       "      <td>83807.86</td>\n",
       "      <td>112542.58</td>\n",
       "      <td>0</td>\n",
       "      <td>0</td>\n",
       "      <td>0.493460</td>\n",
       "    </tr>\n",
       "    <tr>\n",
       "      <th>2</th>\n",
       "      <td>42</td>\n",
       "      <td>159660.80</td>\n",
       "      <td>113931.57</td>\n",
       "      <td>1</td>\n",
       "      <td>0</td>\n",
       "      <td>0.494105</td>\n",
       "    </tr>\n",
       "    <tr>\n",
       "      <th>3</th>\n",
       "      <td>39</td>\n",
       "      <td>0.00</td>\n",
       "      <td>93826.63</td>\n",
       "      <td>0</td>\n",
       "      <td>0</td>\n",
       "      <td>0.488945</td>\n",
       "    </tr>\n",
       "    <tr>\n",
       "      <th>4</th>\n",
       "      <td>43</td>\n",
       "      <td>125510.82</td>\n",
       "      <td>79084.10</td>\n",
       "      <td>0</td>\n",
       "      <td>0</td>\n",
       "      <td>0.495281</td>\n",
       "    </tr>\n",
       "    <tr>\n",
       "      <th>5</th>\n",
       "      <td>44</td>\n",
       "      <td>113755.78</td>\n",
       "      <td>149756.71</td>\n",
       "      <td>1</td>\n",
       "      <td>0</td>\n",
       "      <td>0.495281</td>\n",
       "    </tr>\n",
       "    <tr>\n",
       "      <th>6</th>\n",
       "      <td>50</td>\n",
       "      <td>0.00</td>\n",
       "      <td>10062.80</td>\n",
       "      <td>0</td>\n",
       "      <td>1</td>\n",
       "      <td>0.500437</td>\n",
       "    </tr>\n",
       "    <tr>\n",
       "      <th>7</th>\n",
       "      <td>29</td>\n",
       "      <td>115046.74</td>\n",
       "      <td>119346.88</td>\n",
       "      <td>1</td>\n",
       "      <td>0</td>\n",
       "      <td>0.488707</td>\n",
       "    </tr>\n",
       "    <tr>\n",
       "      <th>8</th>\n",
       "      <td>44</td>\n",
       "      <td>142051.07</td>\n",
       "      <td>74940.50</td>\n",
       "      <td>0</td>\n",
       "      <td>0</td>\n",
       "      <td>0.494105</td>\n",
       "    </tr>\n",
       "    <tr>\n",
       "      <th>9</th>\n",
       "      <td>27</td>\n",
       "      <td>134603.88</td>\n",
       "      <td>71725.73</td>\n",
       "      <td>0</td>\n",
       "      <td>0</td>\n",
       "      <td>0.489143</td>\n",
       "    </tr>\n",
       "    <tr>\n",
       "      <th>10</th>\n",
       "      <td>31</td>\n",
       "      <td>102016.72</td>\n",
       "      <td>80181.12</td>\n",
       "      <td>0</td>\n",
       "      <td>0</td>\n",
       "      <td>0.486887</td>\n",
       "    </tr>\n",
       "    <tr>\n",
       "      <th>11</th>\n",
       "      <td>24</td>\n",
       "      <td>0.00</td>\n",
       "      <td>76390.01</td>\n",
       "      <td>0</td>\n",
       "      <td>0</td>\n",
       "      <td>0.486241</td>\n",
       "    </tr>\n",
       "    <tr>\n",
       "      <th>12</th>\n",
       "      <td>34</td>\n",
       "      <td>0.00</td>\n",
       "      <td>26260.98</td>\n",
       "      <td>0</td>\n",
       "      <td>0</td>\n",
       "      <td>0.486180</td>\n",
       "    </tr>\n",
       "    <tr>\n",
       "      <th>13</th>\n",
       "      <td>25</td>\n",
       "      <td>0.00</td>\n",
       "      <td>190857.79</td>\n",
       "      <td>0</td>\n",
       "      <td>0</td>\n",
       "      <td>0.485503</td>\n",
       "    </tr>\n",
       "    <tr>\n",
       "      <th>14</th>\n",
       "      <td>35</td>\n",
       "      <td>0.00</td>\n",
       "      <td>65951.65</td>\n",
       "      <td>0</td>\n",
       "      <td>0</td>\n",
       "      <td>0.488982</td>\n",
       "    </tr>\n",
       "    <tr>\n",
       "      <th>15</th>\n",
       "      <td>45</td>\n",
       "      <td>143129.41</td>\n",
       "      <td>64327.26</td>\n",
       "      <td>0</td>\n",
       "      <td>1</td>\n",
       "      <td>0.500819</td>\n",
       "    </tr>\n",
       "    <tr>\n",
       "      <th>16</th>\n",
       "      <td>58</td>\n",
       "      <td>132602.88</td>\n",
       "      <td>5097.67</td>\n",
       "      <td>1</td>\n",
       "      <td>1</td>\n",
       "      <td>0.503256</td>\n",
       "    </tr>\n",
       "    <tr>\n",
       "      <th>17</th>\n",
       "      <td>24</td>\n",
       "      <td>0.00</td>\n",
       "      <td>14406.41</td>\n",
       "      <td>0</td>\n",
       "      <td>0</td>\n",
       "      <td>0.487031</td>\n",
       "    </tr>\n",
       "    <tr>\n",
       "      <th>18</th>\n",
       "      <td>45</td>\n",
       "      <td>0.00</td>\n",
       "      <td>158684.81</td>\n",
       "      <td>0</td>\n",
       "      <td>0</td>\n",
       "      <td>0.497590</td>\n",
       "    </tr>\n",
       "    <tr>\n",
       "      <th>19</th>\n",
       "      <td>24</td>\n",
       "      <td>0.00</td>\n",
       "      <td>54724.03</td>\n",
       "      <td>0</td>\n",
       "      <td>0</td>\n",
       "      <td>0.486677</td>\n",
       "    </tr>\n",
       "    <tr>\n",
       "      <th>20</th>\n",
       "      <td>41</td>\n",
       "      <td>0.00</td>\n",
       "      <td>170886.17</td>\n",
       "      <td>0</td>\n",
       "      <td>0</td>\n",
       "      <td>0.492075</td>\n",
       "    </tr>\n",
       "    <tr>\n",
       "      <th>21</th>\n",
       "      <td>32</td>\n",
       "      <td>0.00</td>\n",
       "      <td>138555.46</td>\n",
       "      <td>0</td>\n",
       "      <td>0</td>\n",
       "      <td>0.485389</td>\n",
       "    </tr>\n",
       "    <tr>\n",
       "      <th>22</th>\n",
       "      <td>38</td>\n",
       "      <td>0.00</td>\n",
       "      <td>118913.53</td>\n",
       "      <td>1</td>\n",
       "      <td>0</td>\n",
       "      <td>0.488546</td>\n",
       "    </tr>\n",
       "    <tr>\n",
       "      <th>23</th>\n",
       "      <td>46</td>\n",
       "      <td>0.00</td>\n",
       "      <td>8487.75</td>\n",
       "      <td>0</td>\n",
       "      <td>0</td>\n",
       "      <td>0.499494</td>\n",
       "    </tr>\n",
       "    <tr>\n",
       "      <th>24</th>\n",
       "      <td>38</td>\n",
       "      <td>0.00</td>\n",
       "      <td>187616.16</td>\n",
       "      <td>0</td>\n",
       "      <td>0</td>\n",
       "      <td>0.489308</td>\n",
       "    </tr>\n",
       "    <tr>\n",
       "      <th>25</th>\n",
       "      <td>25</td>\n",
       "      <td>0.00</td>\n",
       "      <td>124508.29</td>\n",
       "      <td>0</td>\n",
       "      <td>0</td>\n",
       "      <td>0.484741</td>\n",
       "    </tr>\n",
       "    <tr>\n",
       "      <th>26</th>\n",
       "      <td>36</td>\n",
       "      <td>136815.64</td>\n",
       "      <td>170041.95</td>\n",
       "      <td>0</td>\n",
       "      <td>0</td>\n",
       "      <td>0.493276</td>\n",
       "    </tr>\n",
       "    <tr>\n",
       "      <th>27</th>\n",
       "      <td>44</td>\n",
       "      <td>0.00</td>\n",
       "      <td>38433.35</td>\n",
       "      <td>0</td>\n",
       "      <td>0</td>\n",
       "      <td>0.490386</td>\n",
       "    </tr>\n",
       "    <tr>\n",
       "      <th>28</th>\n",
       "      <td>43</td>\n",
       "      <td>141349.43</td>\n",
       "      <td>100187.43</td>\n",
       "      <td>0</td>\n",
       "      <td>0</td>\n",
       "      <td>0.494105</td>\n",
       "    </tr>\n",
       "    <tr>\n",
       "      <th>29</th>\n",
       "      <td>29</td>\n",
       "      <td>59697.17</td>\n",
       "      <td>53483.21</td>\n",
       "      <td>0</td>\n",
       "      <td>0</td>\n",
       "      <td>0.487803</td>\n",
       "    </tr>\n",
       "    <tr>\n",
       "      <th>30</th>\n",
       "      <td>39</td>\n",
       "      <td>0.00</td>\n",
       "      <td>140469.38</td>\n",
       "      <td>1</td>\n",
       "      <td>0</td>\n",
       "      <td>0.488945</td>\n",
       "    </tr>\n",
       "    <tr>\n",
       "      <th>31</th>\n",
       "      <td>36</td>\n",
       "      <td>85311.70</td>\n",
       "      <td>156731.91</td>\n",
       "      <td>0</td>\n",
       "      <td>0</td>\n",
       "      <td>0.490692</td>\n",
       "    </tr>\n",
       "    <tr>\n",
       "      <th>32</th>\n",
       "      <td>41</td>\n",
       "      <td>110112.54</td>\n",
       "      <td>81898.81</td>\n",
       "      <td>0</td>\n",
       "      <td>0</td>\n",
       "      <td>0.495281</td>\n",
       "    </tr>\n",
       "    <tr>\n",
       "      <th>33</th>\n",
       "      <td>42</td>\n",
       "      <td>0.00</td>\n",
       "      <td>34410.55</td>\n",
       "      <td>0</td>\n",
       "      <td>0</td>\n",
       "      <td>0.490386</td>\n",
       "    </tr>\n",
       "    <tr>\n",
       "      <th>34</th>\n",
       "      <td>29</td>\n",
       "      <td>0.00</td>\n",
       "      <td>142033.07</td>\n",
       "      <td>0</td>\n",
       "      <td>0</td>\n",
       "      <td>0.484741</td>\n",
       "    </tr>\n",
       "    <tr>\n",
       "      <th>35</th>\n",
       "      <td>45</td>\n",
       "      <td>134264.04</td>\n",
       "      <td>27822.99</td>\n",
       "      <td>1</td>\n",
       "      <td>1</td>\n",
       "      <td>0.502351</td>\n",
       "    </tr>\n",
       "    <tr>\n",
       "      <th>36</th>\n",
       "      <td>31</td>\n",
       "      <td>145260.23</td>\n",
       "      <td>114066.77</td>\n",
       "      <td>0</td>\n",
       "      <td>0</td>\n",
       "      <td>0.487532</td>\n",
       "    </tr>\n",
       "    <tr>\n",
       "      <th>37</th>\n",
       "      <td>33</td>\n",
       "      <td>76548.60</td>\n",
       "      <td>98453.45</td>\n",
       "      <td>0</td>\n",
       "      <td>0</td>\n",
       "      <td>0.487535</td>\n",
       "    </tr>\n",
       "    <tr>\n",
       "      <th>38</th>\n",
       "      <td>36</td>\n",
       "      <td>0.00</td>\n",
       "      <td>40812.90</td>\n",
       "      <td>0</td>\n",
       "      <td>0</td>\n",
       "      <td>0.487619</td>\n",
       "    </tr>\n",
       "    <tr>\n",
       "      <th>39</th>\n",
       "      <td>41</td>\n",
       "      <td>70349.48</td>\n",
       "      <td>178074.04</td>\n",
       "      <td>0</td>\n",
       "      <td>0</td>\n",
       "      <td>0.494702</td>\n",
       "    </tr>\n",
       "    <tr>\n",
       "      <th>40</th>\n",
       "      <td>40</td>\n",
       "      <td>0.00</td>\n",
       "      <td>70154.22</td>\n",
       "      <td>0</td>\n",
       "      <td>0</td>\n",
       "      <td>0.491749</td>\n",
       "    </tr>\n",
       "    <tr>\n",
       "      <th>41</th>\n",
       "      <td>51</td>\n",
       "      <td>122522.32</td>\n",
       "      <td>181297.65</td>\n",
       "      <td>1</td>\n",
       "      <td>1</td>\n",
       "      <td>0.503265</td>\n",
       "    </tr>\n",
       "    <tr>\n",
       "      <th>42</th>\n",
       "      <td>61</td>\n",
       "      <td>117419.35</td>\n",
       "      <td>94153.83</td>\n",
       "      <td>0</td>\n",
       "      <td>1</td>\n",
       "      <td>0.501353</td>\n",
       "    </tr>\n",
       "    <tr>\n",
       "      <th>43</th>\n",
       "      <td>49</td>\n",
       "      <td>131394.56</td>\n",
       "      <td>194365.76</td>\n",
       "      <td>1</td>\n",
       "      <td>1</td>\n",
       "      <td>0.500575</td>\n",
       "    </tr>\n",
       "    <tr>\n",
       "      <th>44</th>\n",
       "      <td>61</td>\n",
       "      <td>155931.11</td>\n",
       "      <td>158338.39</td>\n",
       "      <td>0</td>\n",
       "      <td>1</td>\n",
       "      <td>0.500176</td>\n",
       "    </tr>\n",
       "  </tbody>\n",
       "</table>\n",
       "</div>"
      ],
      "text/plain": [
       "    Age    Balance  EstimatedSalary  Exited  Churn_Pred  Churn_Pred_Prob\n",
       "0    42       0.00        101348.88       1           0         0.491313\n",
       "1    41   83807.86        112542.58       0           0         0.493460\n",
       "2    42  159660.80        113931.57       1           0         0.494105\n",
       "3    39       0.00         93826.63       0           0         0.488945\n",
       "4    43  125510.82         79084.10       0           0         0.495281\n",
       "5    44  113755.78        149756.71       1           0         0.495281\n",
       "6    50       0.00         10062.80       0           1         0.500437\n",
       "7    29  115046.74        119346.88       1           0         0.488707\n",
       "8    44  142051.07         74940.50       0           0         0.494105\n",
       "9    27  134603.88         71725.73       0           0         0.489143\n",
       "10   31  102016.72         80181.12       0           0         0.486887\n",
       "11   24       0.00         76390.01       0           0         0.486241\n",
       "12   34       0.00         26260.98       0           0         0.486180\n",
       "13   25       0.00        190857.79       0           0         0.485503\n",
       "14   35       0.00         65951.65       0           0         0.488982\n",
       "15   45  143129.41         64327.26       0           1         0.500819\n",
       "16   58  132602.88          5097.67       1           1         0.503256\n",
       "17   24       0.00         14406.41       0           0         0.487031\n",
       "18   45       0.00        158684.81       0           0         0.497590\n",
       "19   24       0.00         54724.03       0           0         0.486677\n",
       "20   41       0.00        170886.17       0           0         0.492075\n",
       "21   32       0.00        138555.46       0           0         0.485389\n",
       "22   38       0.00        118913.53       1           0         0.488546\n",
       "23   46       0.00          8487.75       0           0         0.499494\n",
       "24   38       0.00        187616.16       0           0         0.489308\n",
       "25   25       0.00        124508.29       0           0         0.484741\n",
       "26   36  136815.64        170041.95       0           0         0.493276\n",
       "27   44       0.00         38433.35       0           0         0.490386\n",
       "28   43  141349.43        100187.43       0           0         0.494105\n",
       "29   29   59697.17         53483.21       0           0         0.487803\n",
       "30   39       0.00        140469.38       1           0         0.488945\n",
       "31   36   85311.70        156731.91       0           0         0.490692\n",
       "32   41  110112.54         81898.81       0           0         0.495281\n",
       "33   42       0.00         34410.55       0           0         0.490386\n",
       "34   29       0.00        142033.07       0           0         0.484741\n",
       "35   45  134264.04         27822.99       1           1         0.502351\n",
       "36   31  145260.23        114066.77       0           0         0.487532\n",
       "37   33   76548.60         98453.45       0           0         0.487535\n",
       "38   36       0.00         40812.90       0           0         0.487619\n",
       "39   41   70349.48        178074.04       0           0         0.494702\n",
       "40   40       0.00         70154.22       0           0         0.491749\n",
       "41   51  122522.32        181297.65       1           1         0.503265\n",
       "42   61  117419.35         94153.83       0           1         0.501353\n",
       "43   49  131394.56        194365.76       1           1         0.500575\n",
       "44   61  155931.11        158338.39       0           1         0.500176"
      ]
     },
     "execution_count": 356,
     "metadata": {},
     "output_type": "execute_result"
    }
   ],
   "source": [
    "pred_probs = abc.predict_proba(X_test)[:,1]\n",
    "\n",
    "predictions = predictions.copy()\n",
    "predictions['Churn_Pred_Prob'] = pred_probs\n",
    "\n",
    "predictions.head(45)"
   ]
  },
  {
   "cell_type": "code",
   "execution_count": 357,
   "metadata": {},
   "outputs": [],
   "source": [
    "#predictions.to_csv('Churn_Predictions.csv')"
   ]
  },
  {
   "cell_type": "code",
   "execution_count": 358,
   "metadata": {},
   "outputs": [
    {
     "data": {
      "image/png": "[encoded data removed]",
      "text/plain": [
       "<Figure size 1080x432 with 2 Axes>"
      ]
     },
     "metadata": {},
     "output_type": "display_data"
    }
   ],
   "source": [
    "fig,ax=plt.subplots(figsize=(15,6))\n",
    "sns.heatmap(predictions.corr(),cmap='PuRd',annot=True,linewidth=0.5).set_title('Heat Map Analysis')\n",
    "plt.show()"
   ]
  },
  {
   "cell_type": "code",
   "execution_count": 359,
   "metadata": {},
   "outputs": [],
   "source": [
    "def bar_percentage(ax,count:len(predictions)):\n",
    "    for bar in ax.patches:                                            \n",
    "        percentage = f\"{round((bar.get_height() / count) *100, 2)}%\"  \n",
    "        x = bar.get_x() + bar.get_width() /2                         \n",
    "        y = bar.get_height()                                          \n",
    "        ax.annotate(percentage, (x, y), va = \"bottom\", ha = \"center\") \n",
    "                                                                      \n",
    "    plt.show()"
   ]
  },
  {
   "cell_type": "code",
   "execution_count": 360,
   "metadata": {
    "id": "8a0Pl-JItvcS",
    "scrolled": false
   },
   "outputs": [
    {
     "data": {
      "image/png": "[encoded data removed]",
      "text/plain": [
       "<Figure size 1440x576 with 1 Axes>"
      ]
     },
     "metadata": {},
     "output_type": "display_data"
    }
   ],
   "source": [
    "bins=[25000,50000,75000,100000,125000,150000,175000,200000,300000]\n",
    "labels=['10001-25000','25001-50000','50001-75000','75001-100000','100001-125000','125001-150000','150001-175000','175001-200000']\n",
    "\n",
    "balance=pd.cut(predictions['Balance'],bins=bins,labels=labels)\n",
    "balance.value_counts()\n",
    "\n",
    "fig, ax = plt.subplots(figsize = (20,8))\n",
    "sns.countplot(hue='Churn_Pred',x=balance,data = predictions, palette='twilight')\n",
    "bar_percentage(ax, len(predictions))\n",
    "\n",
    "plt.show()"
   ]
  },
  {
   "cell_type": "code",
   "execution_count": 361,
   "metadata": {},
   "outputs": [
    {
     "data": {
      "image/png": "[encoded data removed]",
      "text/plain": [
       "<Figure size 1440x576 with 1 Axes>"
      ]
     },
     "metadata": {},
     "output_type": "display_data"
    }
   ],
   "source": [
    "bins=[20,40,60,80]\n",
    "labels=['1-20','21-40','41-60']\n",
    "\n",
    "a=pd.cut(predictions['Age'],bins=bins,labels=labels)\n",
    "a.value_counts()\n",
    "\n",
    "fig, ax = plt.subplots(figsize = (20,8))\n",
    "sns.countplot(hue='Churn_Pred',x=a,data = predictions,palette=\"Blues\")\n",
    "bar_percentage(ax, len(predictions)) \n",
    "\n",
    "plt.show()"
   ]
  },
  {
   "cell_type": "markdown",
   "metadata": {},
   "source": [
    "# $$\\;\\;\\;\\; Final \\ Conclusion $$\n",
    "\n",
    "- Among all the Classification algorithms **AdaBoost Classifier** is best fit to the model, as it has high **Accuracy(80.93%)**,**ROC(76.0%)** and **AUC scores(63.54%)**.\n",
    "\n",
    "- According to the feature importance graph **EstimatedSalary** was high followed by **Age** and **Balance**.\n",
    "\n",
    "- However, **Churn_Pred** and **Churn_Pred_Prob** had most **correlation** with **Age**,and **Balance**.\n",
    "\n",
    "- **11.39%** chruning is predicted with customers of age between **21-40 years** in the final graph of **Age** w.r.t **Churn_Pred**.\n",
    "\n",
    "- The final graph of Balance w.r.t. Churn_Pred interprets that customers with bank balance between **75000-100000** may **churn out** at **4.6%**.\n",
    "\n",
    "##### Preventive Measures to be taken to reduce churning:\n",
    "- Focusing on best customers\n",
    "- Customer satisfaction\n",
    "- Reasonable offers to attract customers\n",
    "- Focusing on mending problematic areas"
   ]
  }
 ],
 "metadata": {
  "colab": {
   "name": "Meghashree_A_DSFT4_Classification_Project_2.ipynb",
   "provenance": []
  },
  "kernelspec": {
   "display_name": "Python 3 (ipykernel)",
   "language": "python",
   "name": "python3"
  },
  "language_info": {
   "codemirror_mode": {
    "name": "ipython",
    "version": 3
   },
   "file_extension": ".py",
   "mimetype": "text/x-python",
   "name": "python",
   "nbconvert_exporter": "python",
   "pygments_lexer": "ipython3",
   "version": "3.9.7"
  }
 },
 "nbformat": 4,
 "nbformat_minor": 1
}
